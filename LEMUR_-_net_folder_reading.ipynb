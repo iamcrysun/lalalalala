{
 "cells": [
  {
   "cell_type": "code",
   "execution_count": 1,
   "metadata": {},
   "outputs": [],
   "source": [
    "import os\n"
   ]
  },
  {
   "cell_type": "code",
   "execution_count": 2,
   "metadata": {},
   "outputs": [
    {
     "data": {
      "text/plain": [
       "[('\\\\\\\\corp.suek.ru\\\\Share\\\\MSK_market_data\\\\market_data\\\\Market Reports\\\\Argus\\\\Argus Russian Coal\\\\2024\\\\10_October',\n",
       "  [],\n",
       "  ['Argus Russian Coal (2024-10-07).pdf']),\n",
       " ('\\\\\\\\corp.suek.ru\\\\Share\\\\MSK_market_data\\\\market_data\\\\Market Reports\\\\Platts\\\\Coal Trader\\\\2024\\\\10_October',\n",
       "  [],\n",
       "  ['Coal Trader_10 Oct 2024.pdf']),\n",
       " ('\\\\\\\\corp.suek.ru\\\\Share\\\\MSK_market_data\\\\market_data\\\\Market Reports\\\\Platts\\\\Coal Trader International\\\\2024\\\\10_October',\n",
       "  [],\n",
       "  ['Coal Trader International_10 Oct 2024.pdf'])]"
      ]
     },
     "execution_count": 2,
     "metadata": {},
     "output_type": "execute_result"
    }
   ],
   "source": [
    "# Корневая папка с отчетами\n",
    "# NOTE: \\\\\\\\ в начале пути это двойное экранирование слэшей, TBC поменяется ли что-то при переезде на VM в итоге\n",
    "network_folder = os.path.join(\"\\\\\\\\corp.suek.ru\", \"Share\", \"MSK_market_data\", \"market_data\", \"Market Reports\")\n",
    "\n",
    "# Нам интересны только конечные папки с файлами\n",
    "folders_with_files = [\n",
    "    (root, dirs, files)\n",
    "    for (root, dirs, files) in os.walk(network_folder)\n",
    "    if len(files) > 0\n",
    "]\n",
    "folders_with_files\n"
   ]
  },
  {
   "cell_type": "code",
   "execution_count": 3,
   "metadata": {},
   "outputs": [
    {
     "data": {
      "text/plain": [
       "['\\\\\\\\corp.suek.ru\\\\Share\\\\MSK_market_data\\\\market_data\\\\Market Reports\\\\Argus\\\\Argus Russian Coal\\\\2024\\\\10_October\\\\Argus Russian Coal (2024-10-07).pdf',\n",
       " '\\\\\\\\corp.suek.ru\\\\Share\\\\MSK_market_data\\\\market_data\\\\Market Reports\\\\Platts\\\\Coal Trader\\\\2024\\\\10_October\\\\Coal Trader_10 Oct 2024.pdf',\n",
       " '\\\\\\\\corp.suek.ru\\\\Share\\\\MSK_market_data\\\\market_data\\\\Market Reports\\\\Platts\\\\Coal Trader International\\\\2024\\\\10_October\\\\Coal Trader International_10 Oct 2024.pdf']"
      ]
     },
     "execution_count": 3,
     "metadata": {},
     "output_type": "execute_result"
    }
   ],
   "source": [
    "# Для каждого вида отчета возьмём только последний вариант (TBC у нас ведь не спросят \"какая ситуация была полгода назад\"?)\n",
    "# NOTE: сейчас на сетевом диске только по одному файлу каждого типа, но в будущем они будут докидываться\n",
    "# Для этого опираемся на структуру папок:\n",
    "# - последний уровень - месяц\n",
    "# - предпоследний - год\n",
    "# - пред-предпоследний - тип отчета\n",
    "\n",
    "latest_reports = {}\n",
    "for (root, dirs, files) in folders_with_files:\n",
    "    report_type = root.split(os.sep)[-3]\n",
    "    report_year = root.split(os.sep)[-2]\n",
    "    report_month = root.split(os.sep)[-1]\n",
    "    # Проверяем актуальность\n",
    "    set_this_as_best = False\n",
    "    previous_best = latest_reports.get(report_type)\n",
    "    if previous_best is None:\n",
    "        # Это первый репорт такого типа\n",
    "        set_this_as_best = True\n",
    "    else:\n",
    "        # Нужно понять новее ли эта итерация\n",
    "        if (report_year > previous_best[\"year\"]) or ((report_year == previous_best[\"year\"]) and (report_month > previous_best[\"month\"])):\n",
    "            set_this_as_best = True\n",
    "\n",
    "    # Если поняли что нам это нужно\n",
    "    if set_this_as_best:\n",
    "        latest_reports[report_type] = {\n",
    "            \"year\": report_year,\n",
    "            \"month\": report_month,\n",
    "            \"files\": [\n",
    "                os.path.join(root, file) for file in files\n",
    "            ],  # NOTE 2: TBC что делать если в папке будет несколько файлов - читаем все?\n",
    "        }\n",
    "\n",
    "# Соберём все в один список путей\n",
    "files_to_read = sum([v[\"files\"] for _, v in latest_reports.items()], [])\n",
    "\n",
    "files_to_read\n"
   ]
  },
  {
   "cell_type": "code",
   "execution_count": null,
   "metadata": {},
   "outputs": [],
   "source": []
  }
 ],
 "metadata": {
  "kernelspec": {
   "display_name": "lemur_env",
   "language": "python",
   "name": "python3"
  },
  "language_info": {
   "codemirror_mode": {
    "name": "ipython",
    "version": 3
   },
   "file_extension": ".py",
   "mimetype": "text/x-python",
   "name": "python",
   "nbconvert_exporter": "python",
   "pygments_lexer": "ipython3",
   "version": "3.13.0"
  }
 },
 "nbformat": 4,
 "nbformat_minor": 2
}
